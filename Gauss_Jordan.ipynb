{
 "cells": [
  {
   "cell_type": "code",
   "execution_count": 18,
   "id": "e3ab8b03-904b-4dbb-aa7c-008b083ffa00",
   "metadata": {},
   "outputs": [
    {
     "name": "stdout",
     "output_type": "stream",
     "text": [
      "[[ 2.  1.  1.]\n",
      " [ 4. -6.  0.]\n",
      " [-2.  7.  2.]]\n"
     ]
    }
   ],
   "source": [
    "import numpy as np\n",
    "A = np.array([[2, 1, 1],\n",
    "              [4, -6, 0],\n",
    "              [-2, 7, 2]],dtype=float)\n",
    "print(A)"
   ]
  },
  {
   "cell_type": "code",
   "execution_count": 30,
   "id": "1a003163-9ac0-405e-a8f1-63c86642cee0",
   "metadata": {},
   "outputs": [
    {
     "name": "stdout",
     "output_type": "stream",
     "text": [
      "[[ 2.  1.  1.]\n",
      " [ 0. -8. -2.]\n",
      " [-2.  7.  2.]]\n",
      "[[ 1.  0.  0.]\n",
      " [-2.  1.  0.]\n",
      " [ 0.  0.  1.]]\n",
      "[[ 2.  1.  1.]\n",
      " [ 0. -8. -2.]\n",
      " [ 0.  8.  3.]]\n",
      "[[ 1.  0.  0.]\n",
      " [-2.  1.  0.]\n",
      " [ 1.  0.  1.]]\n",
      "[[ 2.  1.  1.]\n",
      " [ 0. -8. -2.]\n",
      " [ 0.  0.  1.]]\n",
      "[[ 1.  0.  0.]\n",
      " [-2.  1.  0.]\n",
      " [-1.  1.  1.]]\n",
      "[[ 2.  1.  1.]\n",
      " [ 0. -8.  0.]\n",
      " [ 0.  0.  1.]]\n",
      "[[ 1.  0.  0.]\n",
      " [-4.  3.  2.]\n",
      " [-1.  1.  1.]]\n",
      "[[ 2.  1.  0.]\n",
      " [ 0. -8.  0.]\n",
      " [ 0.  0.  1.]]\n",
      "[[ 2. -1. -1.]\n",
      " [-4.  3.  2.]\n",
      " [-1.  1.  1.]]\n",
      "[[ 2.  0.  0.]\n",
      " [ 0. -8.  0.]\n",
      " [ 0.  0.  1.]]\n",
      "[[ 1.5  -0.62 -0.75]\n",
      " [-4.    3.    2.  ]\n",
      " [-1.    1.    1.  ]]\n",
      "[[ 1.  0.  0.]\n",
      " [-0.  1. -0.]\n",
      " [ 0.  0.  1.]]\n",
      "[[ 0.75 -0.31 -0.38]\n",
      " [ 0.5  -0.38 -0.25]\n",
      " [-1.    1.    1.  ]]\n"
     ]
    }
   ],
   "source": [
    "def gaussian_elimination(matrix):\n",
    "    rows,cols = matrix.shape\n",
    "    identity=np.eye(rows)\n",
    "    for col in range(cols):\n",
    "        for row in range(col+1,rows):\n",
    "            alpha = -matrix[row,col]/matrix[col,col]\n",
    "            matrix[[row]]+=alpha*matrix[[col]]\n",
    "            identity[[row]]+=alpha*identity[[col]]\n",
    "            print(matrix)\n",
    "            print(identity)\n",
    "    for col in range(cols-1,0,-1):\n",
    "        for row in range(col-1,-1,-1):\n",
    "            alpha = -matrix[row,col]/matrix[col,col]\n",
    "            matrix[[row]]+=alpha*matrix[[col]]\n",
    "            identity[[row]]+=alpha*identity[[col]]\n",
    "            print(matrix)\n",
    "            print(identity)\n",
    "    for row in range(rows):\n",
    "        alpha=matrix[row,row]\n",
    "        matrix[[row]]=matrix[[row]]/alpha\n",
    "        identity[[row]]=identity[[row]]/alpha\n",
    "    return matrix,identity\n",
    "    \n",
    "matrix = np.copy(A)\n",
    "np.set_printoptions(precision=2,suppress=True)\n",
    "diagonal_mat,e_identity = gaussian_elimination(matrix)\n",
    "print(diagonal_mat)\n",
    "print(e_identity)\n"
   ]
  },
  {
   "cell_type": "code",
   "execution_count": 29,
   "id": "788886ee-58fa-4726-8ce2-64b7167586b9",
   "metadata": {},
   "outputs": [
    {
     "name": "stdout",
     "output_type": "stream",
     "text": [
      "[[1. 0. 0.]\n",
      " [0. 1. 0.]\n",
      " [0. 0. 1.]]\n"
     ]
    }
   ],
   "source": [
    "print(np.dot(e_identity,A))"
   ]
  },
  {
   "cell_type": "code",
   "execution_count": null,
   "id": "6d5208cd-b94c-4e7e-a068-3cb41a86f146",
   "metadata": {},
   "outputs": [],
   "source": []
  }
 ],
 "metadata": {
  "kernelspec": {
   "display_name": "Python 3 (ipykernel)",
   "language": "python",
   "name": "python3"
  },
  "language_info": {
   "codemirror_mode": {
    "name": "ipython",
    "version": 3
   },
   "file_extension": ".py",
   "mimetype": "text/x-python",
   "name": "python",
   "nbconvert_exporter": "python",
   "pygments_lexer": "ipython3",
   "version": "3.10.7"
  }
 },
 "nbformat": 4,
 "nbformat_minor": 5
}
