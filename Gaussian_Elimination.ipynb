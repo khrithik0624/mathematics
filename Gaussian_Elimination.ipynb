{
 "cells": [
  {
   "cell_type": "code",
   "execution_count": 1,
   "id": "a3ab6f18-5252-4156-a375-2f88549785d6",
   "metadata": {},
   "outputs": [
    {
     "name": "stdout",
     "output_type": "stream",
     "text": [
      "[[ 2.  1. -1.]\n",
      " [-3. -1.  2.]\n",
      " [-2.  1.  2.]]\n",
      "[[  8.]\n",
      " [-11.]\n",
      " [ -3.]]\n"
     ]
    }
   ],
   "source": [
    "import numpy as np\n",
    "A = np.array([[2, 1, -1],\n",
    "              [-3, -1, 2],\n",
    "              [-2, 1, 2]],dtype=float)\n",
    "B = np.array([[8],[-11],[-3]],dtype=float)\n",
    "print(A)\n",
    "print(B)"
   ]
  },
  {
   "cell_type": "code",
   "execution_count": 2,
   "id": "4ef56635-fb18-446e-aaa6-d29fadb62fe4",
   "metadata": {
    "scrolled": true
   },
   "outputs": [
    {
     "name": "stdout",
     "output_type": "stream",
     "text": [
      "[[-3.   -1.    2.  ]\n",
      " [ 0.    1.67  0.67]\n",
      " [ 0.    0.    0.2 ]]\n",
      "[[-11.  ]\n",
      " [  4.33]\n",
      " [ -0.2 ]]\n"
     ]
    }
   ],
   "source": [
    "def gaussian_elimination(matrix,vector):\n",
    "    rows,cols = matrix.shape\n",
    "    for col in range(cols):\n",
    "        pivot_row = max(range(col,rows),key = lambda i: abs(matrix[i,col]))\n",
    "        #print(pivot_row)\n",
    "        matrix[[col,pivot_row]] = matrix[[pivot_row,col]]\n",
    "        vector[[col,pivot_row]] = vector[[pivot_row,col]]\n",
    "        #print(matrix)\n",
    "        for row in range(col+1,rows):\n",
    "            alpha = -matrix[row,col]/matrix[col,col]\n",
    "            matrix[[row]]+=alpha*matrix[[col]]\n",
    "            vector[[row]]+=alpha*vector[[col]]\n",
    "            #print(matrix)  \n",
    "    return matrix,vector\n",
    "\n",
    "matrix = np.copy(A)\n",
    "vector = np.copy(B)\n",
    "np.set_printoptions(precision=2,suppress=True)\n",
    "upper_tri,e_vector = gaussian_elimination(matrix,vector)\n",
    "print(upper_tri)\n",
    "print(e_vector)"
   ]
  },
  {
   "cell_type": "code",
   "execution_count": 3,
   "id": "d3a6fb42-46cf-4384-8e0f-cd6688760ff1",
   "metadata": {},
   "outputs": [
    {
     "name": "stdout",
     "output_type": "stream",
     "text": [
      "[ 2.  3. -1.]\n"
     ]
    },
    {
     "name": "stderr",
     "output_type": "stream",
     "text": [
      "C:\\Users\\khrithik\\AppData\\Local\\Temp\\ipykernel_13296\\2011816407.py:5: DeprecationWarning: Conversion of an array with ndim > 0 to a scalar is deprecated, and will error in future. Ensure you extract a single element from your array before performing this operation. (Deprecated NumPy 1.25.)\n",
      "  x[i] = (vector[i] - np.dot(matrix[i, i+1:],x[i+1:]))/matrix[i,i]\n"
     ]
    }
   ],
   "source": [
    "def back_substitution(matrix,vector):\n",
    "    rows,cols =  matrix.shape\n",
    "    x= np.zeros(cols)\n",
    "    for i in range(cols-1,-1,-1):\n",
    "        x[i] = (vector[i] - np.dot(matrix[i, i+1:],x[i+1:]))/matrix[i,i]\n",
    "    return x\n",
    "print(back_substitution(upper_tri,e_vector))"
   ]
  },
  {
   "cell_type": "code",
   "execution_count": 4,
   "id": "e2d077e0-ac70-4de3-8594-9439104a39b8",
   "metadata": {},
   "outputs": [],
   "source": [
    "# a = np.array([[22,23,38,45,57],\n",
    "#     [6,7,8,9,10]],dtype=float)\n",
    "\n",
    "# #a[[0]]=a[[0]]*2+a[[1]]*(-10)\n",
    "# # print(a)\n",
    "# print(a[:,1:2])"
   ]
  },
  {
   "cell_type": "code",
   "execution_count": 5,
   "id": "4b78b8c2-1f14-4ebf-ae3e-e562473a3308",
   "metadata": {},
   "outputs": [],
   "source": [
    "# for i in range(5,1,-1):\n",
    "#     print(i)\n",
    "# print(matrix[1:, 3:])\n",
    "# print(np.zeros(3))\n",
    "# print(np.dot([1,2,3],[1,2,3]))"
   ]
  },
  {
   "cell_type": "code",
   "execution_count": null,
   "id": "2776b925-5e95-489e-b3c5-176aa9823a89",
   "metadata": {},
   "outputs": [],
   "source": []
  },
  {
   "cell_type": "code",
   "execution_count": null,
   "id": "2b451cb4-3b10-48e6-9266-4e198f148601",
   "metadata": {},
   "outputs": [],
   "source": []
  }
 ],
 "metadata": {
  "kernelspec": {
   "display_name": "Python 3 (ipykernel)",
   "language": "python",
   "name": "python3"
  },
  "language_info": {
   "codemirror_mode": {
    "name": "ipython",
    "version": 3
   },
   "file_extension": ".py",
   "mimetype": "text/x-python",
   "name": "python",
   "nbconvert_exporter": "python",
   "pygments_lexer": "ipython3",
   "version": "3.10.7"
  }
 },
 "nbformat": 4,
 "nbformat_minor": 5
}
