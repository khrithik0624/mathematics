{
 "cells": [
  {
   "cell_type": "code",
   "execution_count": 9,
   "id": "0d93736d-370e-4b5b-a135-cf59a5d0ea97",
   "metadata": {},
   "outputs": [
    {
     "name": "stdout",
     "output_type": "stream",
     "text": [
      "Probability of head 0.49913\n",
      "Probability of tail 0.50087\n"
     ]
    }
   ],
   "source": [
    "import random\n",
    "\n",
    "iterations = 100000\n",
    "\n",
    "def tossing():\n",
    "    heads = 0\n",
    "    tails = 0\n",
    "    for i in range(iterations):\n",
    "        toss = random.choice([0,1])\n",
    "        if toss==0:\n",
    "            heads+=1\n",
    "        else:\n",
    "            tails+=1\n",
    "    return heads,tails\n",
    "    \n",
    "h,t = tossing()\n",
    "\n",
    "print(\"Probability of head\", h/iterations)\n",
    "print(\"Probability of tail\", t/iterations)\n"
   ]
  },
  {
   "cell_type": "code",
   "execution_count": null,
   "id": "cc922a99-4228-434e-b2c6-e74540ee0138",
   "metadata": {},
   "outputs": [],
   "source": []
  },
  {
   "cell_type": "code",
   "execution_count": null,
   "id": "aec25fc3-5178-47b4-ab45-492b62641877",
   "metadata": {},
   "outputs": [],
   "source": []
  }
 ],
 "metadata": {
  "kernelspec": {
   "display_name": "Python 3 (ipykernel)",
   "language": "python",
   "name": "python3"
  },
  "language_info": {
   "codemirror_mode": {
    "name": "ipython",
    "version": 3
   },
   "file_extension": ".py",
   "mimetype": "text/x-python",
   "name": "python",
   "nbconvert_exporter": "python",
   "pygments_lexer": "ipython3",
   "version": "3.10.7"
  }
 },
 "nbformat": 4,
 "nbformat_minor": 5
}
