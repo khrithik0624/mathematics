{
 "cells": [
  {
   "cell_type": "code",
   "execution_count": 1,
   "id": "c7ff1bfc-b89f-4a1e-9837-36dacc034cd9",
   "metadata": {},
   "outputs": [
    {
     "name": "stdout",
     "output_type": "stream",
     "text": [
      "45\n",
      "[[45, -18, -3], [0, 9, -6], [0, 0, 5]]\n",
      "[[45  0  0]\n",
      " [ 0 45  0]\n",
      " [ 0  0 45]]\n"
     ]
    }
   ],
   "source": [
    "a = [[1,2,3],\n",
    "     [0,5,6],\n",
    "     [0,0,9]]\n",
    "\n",
    "def det(mat,n):\n",
    "    d = 0\n",
    "    minus1 = 1\n",
    "    if n==2:\n",
    "        return mat[0][0]*mat[1][1] - mat[0][1]*mat[1][0]\n",
    "    for i in range(n):\n",
    "        red_mat = [[row[j] for j in range(n) if j!=i] for row in mat[1:]]\n",
    "        d= d+ mat[0][i]*det(red_mat,n-1)*minus1\n",
    "        minus1= minus1*-1\n",
    "    return d\n",
    "\n",
    "def adj(mat,n):\n",
    "    minus1 = 1\n",
    "    adjoint = [[0 for _ in range(n)] for _ in range(n)]\n",
    "    for i in range(n):\n",
    "        for j in range(n):\n",
    "            red_mat = [[row[k] for k in range(n) if k!=j] for row in (mat[0:i]+mat[i+1:]) ]\n",
    "            adjoint[j][i] = minus1*det(red_mat,n-1)\n",
    "            minus1 = minus1*-1\n",
    "    return adjoint\n",
    "\n",
    "\n",
    "\n",
    "print(det(a,3))\n",
    "adjoint1 = adj(a,3)\n",
    "print(adjoint1)\n",
    "\n",
    "import numpy as np\n",
    "a1 = np.array(a)\n",
    "adj1 = np.array(adjoint1)\n",
    "print(np.dot(a,adjoint1))\n",
    "\n",
    "#print([[row[i] for i in range(3) if i!=1] for row in a[1:]])"
   ]
  },
  {
   "cell_type": "code",
   "execution_count": null,
   "id": "04cbd62f-e39d-48c7-9fd3-d1751bfe4e04",
   "metadata": {},
   "outputs": [],
   "source": []
  },
  {
   "cell_type": "code",
   "execution_count": null,
   "id": "cf154c5a-57b5-4eb3-9304-13b628f3684c",
   "metadata": {},
   "outputs": [],
   "source": []
  }
 ],
 "metadata": {
  "kernelspec": {
   "display_name": "Python 3 (ipykernel)",
   "language": "python",
   "name": "python3"
  },
  "language_info": {
   "codemirror_mode": {
    "name": "ipython",
    "version": 3
   },
   "file_extension": ".py",
   "mimetype": "text/x-python",
   "name": "python",
   "nbconvert_exporter": "python",
   "pygments_lexer": "ipython3",
   "version": "3.10.7"
  }
 },
 "nbformat": 4,
 "nbformat_minor": 5
}
