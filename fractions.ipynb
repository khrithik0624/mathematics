{
 "cells": [
  {
   "cell_type": "code",
   "execution_count": 19,
   "id": "d905219c-00c0-4e6c-82cb-5f5a31ad8f9e",
   "metadata": {},
   "outputs": [
    {
     "name": "stdout",
     "output_type": "stream",
     "text": [
      "(7, 4)\n",
      "(1, 36)\n",
      "(1, 4)\n",
      "(2, 1)\n"
     ]
    }
   ],
   "source": [
    "a = (1,2)\n",
    "b = (1,4)\n",
    "\n",
    "to_add = [(1,2),(1,3),(1,4),(2,3)]\n",
    "\n",
    "def add(a,n):\n",
    "    denom = 1\n",
    "    for i in range(n):\n",
    "        denom = denom * a[i][1]\n",
    "    num = 0\n",
    "    for i in range(n):\n",
    "        num = num + int(a[i][0]*denom/a[i][1]) \n",
    "    factor = hcf(denom,num)\n",
    "    num = int(num/factor)\n",
    "    denom = int(denom/factor)\n",
    "    return (num,denom)\n",
    "\n",
    "def multiply(a,n):\n",
    "    denom = 1\n",
    "    num = 1\n",
    "    for i in range(n):\n",
    "        denom =  denom * a[i][1]\n",
    "        num =  num * a[i][0]\n",
    "    factor = hcf(denom,num)\n",
    "    num = int(num/factor)\n",
    "    denom = int(denom/factor)\n",
    "    return (num,denom)\n",
    "    \n",
    "def sub(a,b):\n",
    "    denom = a[1]*b[1]\n",
    "    num = int(a[0]*denom/a[1]) - int(b[0]*denom/b[1])\n",
    "    factor = hcf(denom,num)\n",
    "    num = int(num/factor)\n",
    "    denom = int(denom/factor)\n",
    "    return (num,denom)\n",
    "\n",
    "def divide(a,b):\n",
    "    denom = a[1]*b[0]\n",
    "    num = a[0]*b[1]\n",
    "    factor = hcf(denom,num)\n",
    "    num = int(num/factor)\n",
    "    denom = int(denom/factor)\n",
    "    return (num,denom)\n",
    "    \n",
    "def hcf(a,b):\n",
    "    u = max(a,b)\n",
    "    l = min(a,b)\n",
    "    mod = u%l\n",
    "    if mod==0:\n",
    "        return l\n",
    "    return hcf(l,mod)\n",
    "\n",
    "print(add(to_add,4))\n",
    "print(multiply(to_add,4))\n",
    "print(sub(a,b))\n",
    "print(divide(a,b))"
   ]
  },
  {
   "cell_type": "code",
   "execution_count": null,
   "id": "900da03c-eeef-44c5-bac6-eeda9635734d",
   "metadata": {},
   "outputs": [],
   "source": []
  },
  {
   "cell_type": "code",
   "execution_count": null,
   "id": "bcb31ddc-1d76-482d-ae63-47f58a317e9b",
   "metadata": {},
   "outputs": [],
   "source": []
  }
 ],
 "metadata": {
  "kernelspec": {
   "display_name": "Python 3 (ipykernel)",
   "language": "python",
   "name": "python3"
  },
  "language_info": {
   "codemirror_mode": {
    "name": "ipython",
    "version": 3
   },
   "file_extension": ".py",
   "mimetype": "text/x-python",
   "name": "python",
   "nbconvert_exporter": "python",
   "pygments_lexer": "ipython3",
   "version": "3.10.7"
  }
 },
 "nbformat": 4,
 "nbformat_minor": 5
}
